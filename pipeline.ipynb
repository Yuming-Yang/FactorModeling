{
 "cells": [
  {
   "cell_type": "markdown",
   "id": "234317ec",
   "metadata": {},
   "source": [
    "# Initialization"
   ]
  },
  {
   "cell_type": "code",
   "execution_count": null,
   "id": "34be582c",
   "metadata": {},
   "outputs": [],
   "source": [
    "import pandas as pd\n",
    "import numpy as np\n",
    "import os\n",
    "import sys\n",
    "import datetime\n",
    "import matplotlib.pyplot as plt\n",
    "import seaborn as sns\n",
    "from tqdm import tqdm\n",
    "import math\n",
    "import matplotlib.dates as mdates\n",
    "import matplotlib.ticker as mtick\n",
    "from matplotlib.ticker import MaxNLocator, PercentFormatter\n",
    "from scipy.cluster import hierarchy\n",
    "from scipy.spatial.distance import squareform\n",
    "from scipy import stats\n",
    "import warnings\n",
    "warnings.filterwarnings('ignore')\n",
    "import multiprocessing\n",
    "from functools import partial\n",
    "from pathlib import Path"
   ]
  },
  {
   "cell_type": "code",
   "execution_count": null,
   "id": "0914e33c",
   "metadata": {},
   "outputs": [],
   "source": [
    "from composite_factor import plot_factor_distributions, composite_factor_calculation, weighted_composite_factor, plot_quantile_backtests_log\n",
    "from operations import ts_decay\n",
    "from portfolio_simulation import SimulationSettings, Simulation\n",
    "from factor_selector import FactorSelector, single_factor_metrics\n",
    "from portfolio_analyzer import PortfolioAnalyzer\n",
    "from multi_manager import run_multimanager_backtest"
   ]
  },
  {
   "cell_type": "code",
   "execution_count": null,
   "id": "30a8336d",
   "metadata": {},
   "outputs": [],
   "source": [
    "# Load data\n",
    "features_df = pd.read_csv('data/2.symbol_features_long.csv')\n",
    "features_df['date'] = pd.to_datetime(features_df['date'])\n",
    "features_df.set_index([\"date\", \"symbol\"], inplace=True)\n",
    "\n",
    "factors_df = pd.read_csv('data/8.factors_df.csv')\n",
    "factors_df['date'] = pd.to_datetime(factors_df['date'])\n",
    "factors_df.set_index(['date', 'symbol'], inplace=True)\n",
    "\n",
    "single_factor_returns = pd.read_csv('data/9.single_factor_returns.csv')\n",
    "single_factor_returns['date'] = pd.to_datetime(single_factor_returns['date'])\n",
    "single_factor_returns.set_index(['date'], inplace=True)"
   ]
  },
  {
   "cell_type": "code",
   "execution_count": null,
   "id": "07ea5ab9",
   "metadata": {},
   "outputs": [],
   "source": [
    "# Define returns, cap_flag, investability_flag and pre-simulation settings\n",
    "returns = features_df['log_return']\n",
    "cap_flag = features_df['cap_flag']\n",
    "investability_flag = features_df['investability_flag']\n",
    "com_factors_df = pd.DataFrame(index=factors_df.index)\n",
    "# Filter out BMS_eq factor\n",
    "factors_df.drop(columns=['BMS_eq'], inplace=True)\n",
    "\n",
    "# Default SimSettings use equal_weight and transaction_cost = True\n",
    "SimSettings = partial(\n",
    "    SimulationSettings,\n",
    "    returns=returns,\n",
    "    cap_flag=cap_flag,\n",
    "    investability_flag=investability_flag,\n",
    "    factors_df=com_factors_df,\n",
    "    method='equal',\n",
    "    transaction_cost=True,\n",
    "    max_weight=0.01,\n",
    "    pct=0.1,\n",
    "    min_universe=100,\n",
    "    contributor=False,\n",
    "    output_summary=False,\n",
    "    output_returns=False,\n",
    "    plot=True\n",
    ")"
   ]
  },
  {
   "cell_type": "code",
   "execution_count": null,
   "id": "075ba7ec",
   "metadata": {},
   "outputs": [],
   "source": [
    "# Calculate factor analysis metrics\n",
    "factor_analysis_metrics = single_factor_metrics(factors_df, returns)\n",
    "factor_analysis_metrics.to_csv('data/10.factor_analysis_metrics.csv')\n",
    "plot_factor_distributions(factors_df, exclude=['log_return'], bins=40, ncols=6, figsize=(20, 4))\n",
    "factor_analysis_metrics"
   ]
  },
  {
   "cell_type": "markdown",
   "id": "8bd8c236",
   "metadata": {},
   "source": [
    "# Full time Period"
   ]
  },
  {
   "cell_type": "code",
   "execution_count": null,
   "id": "30b3bde5",
   "metadata": {},
   "outputs": [],
   "source": [
    "# Prepare Full Sample Factor Selection\n",
    "factor_analysis_metrics = pd.read_csv('data/10.factor_analysis_metrics.csv', index_col=0)\n",
    "selected_factors = factor_analysis_metrics.index[factor_analysis_metrics['rank_IC_IR'] > -1].to_list()"
   ]
  },
  {
   "cell_type": "code",
   "execution_count": null,
   "id": "1d78614b",
   "metadata": {},
   "outputs": [],
   "source": [
    "def plot_decay_sensitivity(\n",
    "    composite_factor: pd.Series,\n",
    "    settings: SimulationSettings,\n",
    "    decay_period: list[int] = [1, 3, 5, 10, 25, 50, 75, 100, 125, 150, 175, 200, 225, 250, 275, 300, 325, 350],\n",
    "    figsize: tuple[int, int] = (12, 6)\n",
    "):\n",
    "    \"\"\"\n",
    "    For each decay window d, re‐compute the factor via ts_decay, run the simulation,\n",
    "    and plot annualized return (left axis) & Sharpe ratio (right axis) versus d.\n",
    "    \"\"\"\n",
    "    annret_list = []\n",
    "    sharpe_list = []\n",
    "    settings.output_returns = True\n",
    "    settings.plot = False\n",
    "    for d in tqdm(decay_period, desc=\"Decay windows\"):\n",
    "        # decay the factor\n",
    "        feat = ts_decay(composite_factor, d).rename(\"custom_feature\")\n",
    "\n",
    "        # run the simulation\n",
    "        sim = Simulation(\n",
    "            name=f\"decay_{d}\",\n",
    "            custom_feature=feat,\n",
    "            settings=settings,\n",
    "        )\n",
    "        result_df = sim.run()\n",
    "\n",
    "        # extract the daily net returns\n",
    "        daily_r = result_df[\"log_return\"]\n",
    "\n",
    "        # annualized return = (prod(1+r))^(252/N) - 1\n",
    "        annret = (np.prod(1 + daily_r)) ** (252 / len(daily_r)) - 1\n",
    "        # Sharpe ratio = mean(r)/std(r) * sqrt(252)\n",
    "        sharpe = daily_r.mean() / daily_r.std() * np.sqrt(252)\n",
    "\n",
    "        annret_list.append(annret)\n",
    "        sharpe_list.append(sharpe)\n",
    "\n",
    "    # plotting\n",
    "    fig, ax1 = plt.subplots(figsize=figsize)\n",
    "\n",
    "    # left axis: Annualized Return\n",
    "    ax1.plot(decay_period, annret_list,\n",
    "             marker='*', linestyle='-',\n",
    "             label=\"Annualized Return\")\n",
    "    ax1.set_xlabel(\"Decay Window Length\")\n",
    "    ax1.set_ylabel(\"Annualized Return\", color='tab:blue')\n",
    "    ax1.tick_params(axis='y', labelcolor='tab:blue')\n",
    "    ax1.set_xticks(decay_period)\n",
    "    ax1.set_xlim(min(decay_period), max(decay_period))\n",
    "    ax1.yaxis.set_major_locator(MaxNLocator(nbins=6, prune='both'))\n",
    "    ax1.yaxis.set_major_formatter(PercentFormatter(1.0))\n",
    "\n",
    "    # right axis: Sharpe Ratio\n",
    "    ax2 = ax1.twinx()\n",
    "    ax2.plot(decay_period, sharpe_list,\n",
    "             marker='o', linestyle='--',\n",
    "             color='tab:orange', label=\"Sharpe Ratio\")\n",
    "    ax2.set_ylabel(\"Sharpe Ratio\", color='tab:orange')\n",
    "    ax2.tick_params(axis='y', labelcolor='tab:orange')\n",
    "    ax2.yaxis.set_major_locator(MaxNLocator(nbins=6))\n",
    "\n",
    "    # combined legend\n",
    "    lines1, labels1 = ax1.get_legend_handles_labels()\n",
    "    lines2, labels2 = ax2.get_legend_handles_labels()\n",
    "    ax1.legend(lines1 + lines2, labels1 + labels2, loc=\"best\")\n",
    "\n",
    "    plt.title(\"Annualized Return & Sharpe vs. Decay Window\")\n",
    "    plt.tight_layout()\n",
    "    plt.show()"
   ]
  },
  {
   "cell_type": "markdown",
   "id": "f21860e7",
   "metadata": {},
   "source": [
    "### Zscore composite factor"
   ]
  },
  {
   "cell_type": "code",
   "execution_count": null,
   "id": "8610345f",
   "metadata": {},
   "outputs": [],
   "source": [
    "com_factor_zscore = composite_factor_calculation(factors_df, selected_factors, method='zscore')\n",
    "settings_com_factor_z_eq = SimSettings()"
   ]
  },
  {
   "cell_type": "code",
   "execution_count": null,
   "id": "8ec3f1ed",
   "metadata": {},
   "outputs": [],
   "source": [
    "custom_feature = ts_decay(com_factor_zscore, 80).rename(\"custom_feature\")\n",
    "simulation_com_factor_z_eq_decay_80 = Simulation('com_factor_z_eq_decay_80', custom_feature, settings_com_factor_z_eq)\n",
    "simulation_com_factor_z_eq_decay_80.run()"
   ]
  },
  {
   "cell_type": "code",
   "execution_count": null,
   "id": "68c05692",
   "metadata": {},
   "outputs": [],
   "source": [
    "# Sensitivity with regard to decay window\n",
    "# plot_decay_sensitivity(com_factor_zscore, settings_com_factor_z_eq)"
   ]
  },
  {
   "cell_type": "markdown",
   "id": "751d17c7",
   "metadata": {},
   "source": [
    "### Rank composite factor"
   ]
  },
  {
   "cell_type": "code",
   "execution_count": null,
   "id": "98f98e17",
   "metadata": {},
   "outputs": [],
   "source": [
    "com_factor_rank = composite_factor_calculation(factors_df, selected_factors, method='rank')\n",
    "settings_com_factor_rank_flex = SimSettings(method='linear', plot=False, output_summary=True) # Update settings to linear method"
   ]
  },
  {
   "cell_type": "code",
   "execution_count": null,
   "id": "2b4d4e00",
   "metadata": {},
   "outputs": [],
   "source": [
    "custom_feature = ts_decay(com_factor_rank, 150).rename(\"custom_feature\")\n",
    "\n",
    "simulation_com_factor_rank_flex_decay_150 = Simulation('com_factor_rank_flex_decay_150', custom_feature, settings_com_factor_rank_flex)\n",
    "simulation_com_factor_rank_flex_decay_150.run()"
   ]
  },
  {
   "cell_type": "code",
   "execution_count": null,
   "id": "2ae9a9ca",
   "metadata": {},
   "outputs": [],
   "source": [
    "# Sensitivity with regard to decay window\n",
    "# plot_decay_sensitivity(com_factor_rank, settings_com_factor_rank_flex)"
   ]
  },
  {
   "cell_type": "markdown",
   "id": "5d78ec48",
   "metadata": {},
   "source": [
    "# Rolling Window Factor Selection"
   ]
  },
  {
   "cell_type": "markdown",
   "id": "c2be3df3",
   "metadata": {},
   "source": [
    "## Factor Selection"
   ]
  },
  {
   "cell_type": "code",
   "execution_count": null,
   "id": "84a7db8f",
   "metadata": {},
   "outputs": [],
   "source": [
    "print(\"=== Running ICIR-based factor selection ===\")\n",
    "factor_selector_icir = FactorSelector(\n",
    "    factors_df=factors_df,\n",
    "    returns=returns,\n",
    "    factor_ret_df=single_factor_returns,\n",
    "    window=60,\n",
    "    method='icir_top',\n",
    "    method_kwargs={'top_x': 5, 'icir_threshold': -1}\n",
    ")\n",
    "\n",
    "# Prepare factor selection\n",
    "factor_weights_icir = factor_selector_icir.prepare_selection()\n",
    "out_path = Path('data/factor_weights/factor_weights_icir.csv')\n",
    "out_path.parent.mkdir(parents=True, exist_ok=True)\n",
    "factor_weights_icir.to_csv(out_path)\n",
    "print(f\"ICIR method average non-zero weights: {(factor_weights_icir > 0).sum(axis=1).mean():.2f}\")\n",
    "print(factor_weights_icir)"
   ]
  },
  {
   "cell_type": "code",
   "execution_count": null,
   "id": "6046f171",
   "metadata": {},
   "outputs": [],
   "source": [
    "print(\"\\n=== Running Momentum-based factor selection ===\")\n",
    "factor_selector_momentum = FactorSelector(\n",
    "    factors_df=factors_df,\n",
    "    returns=returns,\n",
    "    factor_ret_df=single_factor_returns,\n",
    "    window=60,\n",
    "    method='momentum',\n",
    "    method_kwargs={\n",
    "        'max_weight': 0.3,     # Maximum weight per factor\n",
    "    }\n",
    ")\n",
    "\n",
    "# Prepare factor selection with Momentum\n",
    "factor_weights_momentum = factor_selector_momentum.prepare_selection()\n",
    "\n",
    "factor_weights_momentum.to_csv('data/factor_weights/factor_weights_momentum.csv')\n",
    "print(f\"Momentum method average non-zero weights: {(factor_weights_momentum > 0).sum(axis=1).mean():.2f}\")\n",
    "print(factor_weights_momentum)"
   ]
  },
  {
   "cell_type": "code",
   "execution_count": null,
   "id": "1747e53a",
   "metadata": {},
   "outputs": [],
   "source": [
    "print(\"\\n=== Running MVO-based factor selection with shrinkage ===\")\n",
    "factor_selector_mvo = FactorSelector(\n",
    "    factors_df=factors_df,\n",
    "    returns=returns,\n",
    "    factor_ret_df=single_factor_returns,\n",
    "    window=60,\n",
    "    method='mvo',\n",
    "    method_kwargs={\n",
    "        'risk_aversion': 1.0,  # Trade-off between return and risk\n",
    "        'max_weight': 0.3,     # Maximum weight per factor\n",
    "        'turnover_penalty': 0.5,  # Penalty for weight changes (reduces turnover)\n",
    "        'use_shrinkage': False  # Apply Ledoit-Wolf shrinkage to covariance matrix\n",
    "    }\n",
    ")\n",
    "\n",
    "# Prepare factor selection with MVO and shrinkage\n",
    "factor_weights_mvo = factor_selector_mvo.prepare_selection()\n",
    "factor_weights_mvo.to_csv('data/factor_weights/factor_weights_mvo.csv')\n",
    "\n",
    "print(f\"MVO method average non-zero weights: {(factor_weights_mvo > 0).sum(axis=1).mean():.2f}\")\n",
    "print(factor_weights_mvo)"
   ]
  },
  {
   "cell_type": "markdown",
   "id": "3560ddf8",
   "metadata": {},
   "source": [
    "## Composite Factor Calculation"
   ]
  },
  {
   "cell_type": "code",
   "execution_count": null,
   "id": "a16c4e09",
   "metadata": {},
   "outputs": [],
   "source": [
    "factor_weights_icir = pd.read_csv('data/factor_weights/factor_weights_icir.csv')\n",
    "factor_weights_icir['date'] = pd.to_datetime(factor_weights_icir['date'])\n",
    "factor_weights_icir.set_index('date', inplace=True)\n",
    "\n",
    "factor_weights_momentum = pd.read_csv('data/factor_weights/factor_weights_momentum.csv')\n",
    "factor_weights_momentum['date'] = pd.to_datetime(factor_weights_momentum['date'])\n",
    "factor_weights_momentum.set_index('date', inplace=True)\n",
    "\n",
    "factor_weights_mvo = pd.read_csv('data/factor_weights/factor_weights_mvo.csv')\n",
    "factor_weights_mvo['date'] = pd.to_datetime(factor_weights_mvo['date'])\n",
    "factor_weights_mvo.set_index('date', inplace=True)"
   ]
  },
  {
   "cell_type": "code",
   "execution_count": null,
   "id": "50f30379",
   "metadata": {},
   "outputs": [],
   "source": [
    "composite_factor_icir_zscore = weighted_composite_factor(factors_df, factor_weights_icir, method='zscore')\n",
    "composite_factor_momentum_zscore = weighted_composite_factor(factors_df, factor_weights_momentum, method='zscore')\n",
    "composite_factor_mvo_zscore = weighted_composite_factor(factors_df, factor_weights_mvo, method='zscore')\n",
    "composite_factor_icir_zscore.to_csv('data/composite_factors/composite_factor_icir_zscore.csv', index=True)\n",
    "composite_factor_momentum_zscore.to_csv('data/composite_factors/composite_factor_momentum_zscore.csv', index=True)\n",
    "composite_factor_mvo_zscore.to_csv('data/composite_factors/composite_factor_mvo_zscore.csv', index=True)"
   ]
  },
  {
   "cell_type": "code",
   "execution_count": null,
   "id": "047b2298",
   "metadata": {},
   "outputs": [],
   "source": [
    "# composite_factor_icir_rank = weighted_composite_factor(factors_df, factor_weights_icir, method='rank')\n",
    "# composite_factor_momentum_rank = weighted_composite_factor(factors_df, factor_weights_momentum, method='rank')\n",
    "# composite_factor_mvo_rank = weighted_composite_factor(factors_df, factor_weights_mvo, method='rank')\n",
    "# composite_factor_icir_rank.to_csv('data/composite_factors/composite_factor_icir_rank.csv', index=True)\n",
    "# composite_factor_momentum_rank.to_csv('data/composite_factors/composite_factor_momentum_rank.csv', index=True)\n",
    "# composite_factor_mvo_rank.to_csv('data/composite_factors/composite_factor_mvo_rank.csv', index=True)"
   ]
  },
  {
   "cell_type": "markdown",
   "id": "465006e0",
   "metadata": {},
   "source": [
    "## Composite Factor Result"
   ]
  },
  {
   "cell_type": "code",
   "execution_count": null,
   "id": "dabd32d4",
   "metadata": {},
   "outputs": [],
   "source": [
    "# ICIR composite factor\n",
    "composite_factor_icir_zscore = pd.read_csv('data/composite_factors/composite_factor_icir_zscore.csv',index_col=['date', 'symbol'],parse_dates=['date'])\n",
    "composite_factor_icir_zscore = composite_factor_icir_zscore.squeeze()\n",
    "settings_icir_composite = SimSettings() \n",
    "\n",
    "custom_feature = ts_decay(composite_factor_icir_zscore, 80).rename(\"custom_feature\").fillna(0)\n",
    "simulation_icir_composite = Simulation('com_factor_icir_eq', custom_feature, settings_icir_composite)\n",
    "simulation_icir_composite.run()"
   ]
  },
  {
   "cell_type": "code",
   "execution_count": null,
   "id": "28a3c589",
   "metadata": {},
   "outputs": [],
   "source": [
    "# Momentum composite factor\n",
    "composite_factor_momentum_zscore = pd.read_csv('data/composite_factors/composite_factor_momentum_zscore.csv',index_col=['date', 'symbol'],parse_dates=['date'])\n",
    "composite_factor_momentum_zscore = composite_factor_momentum_zscore.squeeze()\n",
    "settings_momentum_composite = SimSettings() \n",
    "\n",
    "custom_feature = ts_decay(composite_factor_momentum_zscore, 80).rename(\"custom_feature\").fillna(0)\n",
    "simulation_momentum_composite = Simulation('com_factor_momentum_eq', custom_feature, settings_momentum_composite)\n",
    "simulation_momentum_composite.run()"
   ]
  },
  {
   "cell_type": "code",
   "execution_count": null,
   "id": "9c1431c4",
   "metadata": {},
   "outputs": [],
   "source": [
    "# MVO composite factor\n",
    "composite_factor_mvo_zscore = pd.read_csv('data/composite_factors/composite_factor_mvo_zscore.csv',index_col=['date', 'symbol'],parse_dates=['date'])\n",
    "composite_factor_mvo_zscore = composite_factor_mvo_zscore.squeeze()\n",
    "settings_mvo_composite = SimSettings() \n",
    "\n",
    "custom_feature = ts_decay(composite_factor_mvo_zscore, 80).rename(\"custom_feature\").fillna(0)\n",
    "simulation_mvo_composite = Simulation('com_factor_mvo_eq', custom_feature, settings_mvo_composite)\n",
    "simulation_mvo_composite.run()"
   ]
  },
  {
   "cell_type": "code",
   "execution_count": null,
   "id": "f5d97daf",
   "metadata": {},
   "outputs": [],
   "source": [
    "com_factors_df.to_csv('data/com_factors_df.csv', index=True)\n",
    "com_factors_df = pd.read_csv('data/com_factors_df.csv')\n",
    "com_factors_df['date'] = pd.to_datetime(com_factors_df['date'])\n",
    "com_factors_df = com_factors_df.set_index([\"date\", \"symbol\"])\n",
    "plot_factor_distributions(com_factors_df, exclude=['log_return'], bins=40, ncols=4)"
   ]
  },
  {
   "cell_type": "code",
   "execution_count": null,
   "id": "8fe489b1",
   "metadata": {},
   "outputs": [],
   "source": [
    "plot_quantile_backtests_log(\n",
    "    com_factors_df=com_factors_df,\n",
    "    returns=returns,\n",
    "    n_groups=5,\n",
    "    ncols=2)"
   ]
  },
  {
   "cell_type": "markdown",
   "id": "b1efe52a",
   "metadata": {},
   "source": [
    "## Multi Manager"
   ]
  },
  {
   "cell_type": "code",
   "execution_count": null,
   "id": "eeda1481",
   "metadata": {},
   "outputs": [],
   "source": [
    "factor_weights_icir = pd.read_csv('data/factor_weights/factor_weights_icir.csv')\n",
    "factor_weights_icir['date'] = pd.to_datetime(factor_weights_icir['date'])\n",
    "factor_weights_icir.set_index('date', inplace=True)\n",
    "\n",
    "factor_weights_momentum = pd.read_csv('data/factor_weights/factor_weights_momentum.csv')\n",
    "factor_weights_momentum['date'] = pd.to_datetime(factor_weights_momentum['date'])\n",
    "factor_weights_momentum.set_index('date', inplace=True)\n",
    "\n",
    "factor_weights_mvo = pd.read_csv('data/factor_weights/factor_weights_mvo.csv')\n",
    "factor_weights_mvo['date'] = pd.to_datetime(factor_weights_mvo['date'])\n",
    "factor_weights_mvo.set_index('date', inplace=True)"
   ]
  },
  {
   "cell_type": "code",
   "execution_count": null,
   "id": "27bcc5c6",
   "metadata": {},
   "outputs": [],
   "source": [
    "settings_icir_multimanager = SimSettings()\n",
    "\n",
    "multi_manager_icir, top_longs_icir, top_shorts_icir, counts_icir = run_multimanager_backtest(factors_df, returns, cap_flag, factor_weights_icir, settings_icir_multimanager)\n",
    "analysis_icir = PortfolioAnalyzer(multi_manager_icir)\n",
    "analysis_icir.plot_full_performance(counts_df=counts_icir)"
   ]
  },
  {
   "cell_type": "code",
   "execution_count": null,
   "id": "039cb880",
   "metadata": {},
   "outputs": [],
   "source": [
    "settings_momentum_multimanager = SimSettings()\n",
    "\n",
    "multi_manager_momentum, top_longs_momentum, top_shorts_momentum, counts_momentum = run_multimanager_backtest(factors_df, returns, cap_flag, factor_weights_momentum, settings_momentum_multimanager)\n",
    "analysis_momentum = PortfolioAnalyzer(multi_manager_momentum)\n",
    "analysis_momentum.plot_full_performance(counts_df=counts_momentum)"
   ]
  },
  {
   "cell_type": "code",
   "execution_count": null,
   "id": "a7afb8e0",
   "metadata": {},
   "outputs": [],
   "source": [
    "settings_mvo_multimanager = SimSettings()\n",
    "\n",
    "multi_manager_mvo, top_longs_mvo, top_shorts_mvo, counts_mvo = run_multimanager_backtest(factors_df, returns, cap_flag, factor_weights_mvo, settings_mvo_multimanager)\n",
    "analysis_mvo = PortfolioAnalyzer(multi_manager_mvo)\n",
    "analysis_mvo.plot_full_performance(counts_df=counts_mvo)"
   ]
  },
  {
   "cell_type": "markdown",
   "id": "62b65d83",
   "metadata": {},
   "source": [
    "## Optimization test Portfolio Simulation.py"
   ]
  },
  {
   "cell_type": "code",
   "execution_count": null,
   "id": "71212ac4",
   "metadata": {},
   "outputs": [],
   "source": [
    "# # MVO composite factor\n",
    "# composite_factor_mvo_default = pd.read_csv('data/composite_factors/composite_factor_mvo_zscore.csv',index_col=['date', 'symbol'],parse_dates=['date'])\n",
    "# composite_factor_mvo_default = composite_factor_mvo_default.squeeze()\n",
    "# settings_mvo_composite_default = SimSettings() \n",
    "\n",
    "# custom_feature = ts_decay(composite_factor_mvo_zscore, 80).rename(\"custom_feature\")\n",
    "# simulation_mvo_composite_default = Simulation('com_factor_mvo_default', custom_feature, settings_mvo_composite_default)\n",
    "# simulation_mvo_composite.run()"
   ]
  },
  {
   "cell_type": "code",
   "execution_count": null,
   "id": "104d7a2a",
   "metadata": {},
   "outputs": [],
   "source": [
    "# composite_factor_mvo_optimized = pd.read_csv('data/composite_factors/composite_factor_mvo_zscore.csv',index_col=['date', 'symbol'],parse_dates=['date'])\n",
    "# composite_factor_mvo_optimized = composite_factor_mvo_optimized.squeeze()\n",
    "# settings_mvo_composite_optimized = SimSettings(method='mvo') \n",
    "\n",
    "# custom_feature = ts_decay(composite_factor_mvo_zscore, 80).rename(\"custom_feature\")\n",
    "# simulation_mvo_composite_optimized = Simulation('com_factor_mvo_optimized', custom_feature, settings_mvo_composite_optimized)\n",
    "# simulation_mvo_composite_optimized.run()"
   ]
  }
 ],
 "metadata": {
  "kernelspec": {
   "display_name": "fivedimensions",
   "language": "python",
   "name": "python3"
  },
  "language_info": {
   "codemirror_mode": {
    "name": "ipython",
    "version": 3
   },
   "file_extension": ".py",
   "mimetype": "text/x-python",
   "name": "python",
   "nbconvert_exporter": "python",
   "pygments_lexer": "ipython3",
   "version": "3.12.11"
  }
 },
 "nbformat": 4,
 "nbformat_minor": 5
}
